{
  "nbformat": 4,
  "nbformat_minor": 0,
  "metadata": {
    "colab": {
      "provenance": [],
      "authorship_tag": "ABX9TyPWrncNrfQDu7Giu9Y0mWo/",
      "include_colab_link": true
    },
    "kernelspec": {
      "name": "python3",
      "display_name": "Python 3"
    },
    "language_info": {
      "name": "python"
    }
  },
  "cells": [
    {
      "cell_type": "markdown",
      "metadata": {
        "id": "view-in-github",
        "colab_type": "text"
      },
      "source": [
        "<a href=\"https://colab.research.google.com/github/reerod/Learning-Data-Science-My-Initial-Journey/blob/main/Ciclo_02_Ferramentas_Estat%C3%ADsticas.ipynb\" target=\"_parent\"><img src=\"https://colab.research.google.com/assets/colab-badge.svg\" alt=\"Open In Colab\"/></a>"
      ]
    },
    {
      "cell_type": "markdown",
      "source": [
        "# Neste próximo ciclo iremos responder a novas perguntas do CEO. Para que isso seja possível, antes, devemos conhecer algumas ferramentas estatísticas para que seja possível respondermos as perguntas.\n",
        "\n",
        "## 1. Desvio padrão => fica na biblioteca numpy e se chama std()\n",
        "## 2. Histograma => fica na biblioteca matplotlib e se chama hist()"
      ],
      "metadata": {
        "id": "TnLAThNQHbTv"
      }
    },
    {
      "cell_type": "code",
      "source": [
        "import numpy as np\n",
        "\n",
        "# trabalhando com desvio padrão\n",
        "dados = [8, 9, 4, 2, 2]\n",
        "\n",
        "dp = np.std(dados)\n",
        "print(f\"O desvio padrão é: {round(dp, 2)}\")"
      ],
      "metadata": {
        "colab": {
          "base_uri": "https://localhost:8080/"
        },
        "id": "61hXb6DkK0Fl",
        "outputId": "de9fc2d7-1acb-4a95-9a95-d34fddb465c8"
      },
      "execution_count": 4,
      "outputs": [
        {
          "output_type": "stream",
          "name": "stdout",
          "text": [
            "O desvio padrão é: 2.97\n"
          ]
        }
      ]
    },
    {
      "cell_type": "code",
      "source": [
        "# trabalhando com histograma\n",
        "dados = [8, 9, 4, 2, 2]\n",
        "from matplotlib import pyplot as plt\n",
        "plt.hist(dados, bins='doane')"
      ],
      "metadata": {
        "colab": {
          "base_uri": "https://localhost:8080/",
          "height": 482
        },
        "id": "93ReGB-udUse",
        "outputId": "69004fac-dd5f-4a76-a758-9f89fbfdd2e1"
      },
      "execution_count": 5,
      "outputs": [
        {
          "output_type": "execute_result",
          "data": {
            "text/plain": [
              "(array([2., 1., 0., 2.]),\n",
              " array([2.  , 3.75, 5.5 , 7.25, 9.  ]),\n",
              " <BarContainer object of 4 artists>)"
            ]
          },
          "metadata": {},
          "execution_count": 5
        },
        {
          "output_type": "display_data",
          "data": {
            "text/plain": [
              "<Figure size 640x480 with 1 Axes>"
            ],
            "image/png": "[encoded data removed]"
          },
          "metadata": {}
        }
      ]
    }
  ]
}